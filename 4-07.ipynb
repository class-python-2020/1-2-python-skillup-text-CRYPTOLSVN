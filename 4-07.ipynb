{
 "metadata": {
  "language_info": {
   "codemirror_mode": {
    "name": "ipython",
    "version": 3
   },
   "file_extension": ".py",
   "mimetype": "text/x-python",
   "name": "python",
   "nbconvert_exporter": "python",
   "pygments_lexer": "ipython3",
   "version": "3.8.2-final"
  },
  "orig_nbformat": 2,
  "kernelspec": {
   "name": "python_defaultSpec_1597931991891",
   "display_name": "Python 3.8.2 32-bit"
  }
 },
 "nbformat": 4,
 "nbformat_minor": 2,
 "cells": [
  {
   "cell_type": "code",
   "execution_count": 1,
   "metadata": {},
   "outputs": [],
   "source": [
    "def outer(a,b):\n",
    "    print('outer function (a,b)=({},{})'.format(a,b))\n",
    "    def inner(c,d):\n",
    "        print('inner function (c,d)=({},{})'.format(c,d))\n",
    "        return c*d\n",
    "    return inner(a,b)"
   ]
  },
  {
   "cell_type": "code",
   "execution_count": 2,
   "metadata": {
    "tags": []
   },
   "outputs": [
    {
     "output_type": "stream",
     "name": "stdout",
     "text": "outer function (a,b)=(4,7)\ninner function (c,d)=(4,7)\n28\n"
    }
   ],
   "source": [
    "a=outer(4,7)\n",
    "print(a)"
   ]
  },
  {
   "cell_type": "code",
   "execution_count": 3,
   "metadata": {},
   "outputs": [
    {
     "output_type": "execute_result",
     "data": {
      "text/plain": "\"We are the knights who say: 'Ni!'\""
     },
     "metadata": {},
     "execution_count": 3
    }
   ],
   "source": [
    "def knights(saying):\n",
    "    def inner(quote):\n",
    "        return \"We are the knights who say: '%s'\"% quote\n",
    "    return inner(saying)\n",
    "knights('Ni!')"
   ]
  },
  {
   "cell_type": "code",
   "execution_count": 4,
   "metadata": {},
   "outputs": [],
   "source": [
    "def make_cirecle_area_func(pi=3.14):\n",
    "    '''円の面積を計算する関数を作る'''\n",
    "    def cirecle_area(radius):\n",
    "        '''円の面積を計算する'''\n",
    "        return radius *radius *pi\n",
    "    return cirecle_area\n",
    "#piが初期設定（3.14）のとき\n",
    "cirecle_area_default=make_cirecle_area_func()\n",
    "#piが3.1415926535のとき\n",
    "cirecle_area_precise=make_cirecle_area_func(pi=3.1415926535)"
   ]
  },
  {
   "cell_type": "code",
   "execution_count": 5,
   "metadata": {},
   "outputs": [
    {
     "output_type": "execute_result",
     "data": {
      "text/plain": "(function, function)"
     },
     "metadata": {},
     "execution_count": 5
    }
   ],
   "source": [
    "type(cirecle_area_default,),type(cirecle_area_precise)"
   ]
  },
  {
   "cell_type": "code",
   "execution_count": 6,
   "metadata": {
    "tags": []
   },
   "outputs": [
    {
     "output_type": "stream",
     "name": "stdout",
     "text": "12.56\n12.566370614\n"
    }
   ],
   "source": [
    "#半径2の円の面積、piの精度が異なる\n",
    "print(cirecle_area_default(2))\n",
    "print(cirecle_area_precise(2))"
   ]
  },
  {
   "cell_type": "code",
   "execution_count": 7,
   "metadata": {
    "tags": []
   },
   "outputs": [
    {
     "output_type": "stream",
     "name": "stdout",
     "text": "1\n2\n3\n"
    }
   ],
   "source": [
    "def makecounter():\n",
    "    '''呼ばれるたびにカウントを1ずつ増やすカウンタ関数を生成する'''\n",
    "    n=0\n",
    "    def count():\n",
    "        nonlocal n\n",
    "        n +=1\n",
    "        return n\n",
    "    return count\n",
    "counter=makecounter()\n",
    "print(counter())\n",
    "print(counter())\n",
    "print(counter())"
   ]
  },
  {
   "cell_type": "code",
   "execution_count": 8,
   "metadata": {
    "tags": []
   },
   "outputs": [
    {
     "output_type": "stream",
     "name": "stdout",
     "text": "==== flag: Red\nselection is 0 which may be the default\n====\n==== flag: Blue\nYour choise is 1\n====\n"
    }
   ],
   "source": [
    "def show_message(num=0):\n",
    "    \"\"\"入力値に応じて違うメッセージを表示する\n",
    "    入力：0　orそれ以外\n",
    "    \"\"\"\n",
    "    if num ==0:\n",
    "        flag=\"Red\"\n",
    "        print(\"==== flag:\",flag)\n",
    "        print(\"selection is\",num,\"which may be the default\")\n",
    "        print(\"====\")\n",
    "    else:\n",
    "        flag=\"Blue\"\n",
    "        print(\"==== flag:\",flag)\n",
    "        print(\"Your choise is\",num)\n",
    "        print(\"====\")\n",
    "show_message(0)\n",
    "show_message(1)\n"
   ]
  },
  {
   "cell_type": "code",
   "execution_count": 9,
   "metadata": {
    "tags": []
   },
   "outputs": [
    {
     "output_type": "stream",
     "name": "stdout",
     "text": "==== flag: Red\nselection is 0 which may be the default\n====\n==== flag: Blue\nYour choise is 1\n====\n"
    }
   ],
   "source": [
    "def show_message(num=0):\n",
    "    \"\"\"入力値に応じて違うメッセージを表示する\n",
    "    入力：0　orそれ以外\n",
    "    \"\"\"\n",
    "    def decolate(func):\n",
    "        if num==0:\n",
    "            flag=\"Red\"\n",
    "        else:\n",
    "            flag=\"Blue\"\n",
    "        print(\"==== flag:\",flag)\n",
    "        func()\n",
    "        print(\"====\")\n",
    "    def show_selection(num=num):\n",
    "        if num==0:\n",
    "            print(\"selection is\",num,\"which may be the default\")\n",
    "        else:\n",
    "            print(\"Your choise is\",num)\n",
    "    decolate(show_selection)\n",
    "show_message(0)\n",
    "show_message(1)"
   ]
  },
  {
   "cell_type": "code",
   "execution_count": 10,
   "metadata": {},
   "outputs": [],
   "source": [
    "def make_addfunc():\n",
    "    def add(x,y):\n",
    "        return x+y\n",
    "    return add"
   ]
  },
  {
   "cell_type": "code",
   "execution_count": 11,
   "metadata": {
    "tags": []
   },
   "outputs": [
    {
     "output_type": "stream",
     "name": "stdout",
     "text": "11\n"
    }
   ],
   "source": [
    "adder=make_addfunc()\n",
    "answer=adder(1,10)\n",
    "print(answer)"
   ]
  }
 ]
}
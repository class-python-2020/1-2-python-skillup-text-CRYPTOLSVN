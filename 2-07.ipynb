{
 "metadata": {
  "language_info": {
   "codemirror_mode": {
    "name": "ipython",
    "version": 3
   },
   "file_extension": ".py",
   "mimetype": "text/x-python",
   "name": "python",
   "nbconvert_exporter": "python",
   "pygments_lexer": "ipython3",
   "version": "3.8.2-final"
  },
  "orig_nbformat": 2,
  "kernelspec": {
   "name": "python_defaultSpec_1597628475507",
   "display_name": "Python 3.8.2 32-bit"
  }
 },
 "nbformat": 4,
 "nbformat_minor": 2,
 "cells": [
  {
   "cell_type": "code",
   "execution_count": 1,
   "metadata": {},
   "outputs": [
    {
     "output_type": "execute_result",
     "data": {
      "text/plain": "[]"
     },
     "metadata": {},
     "execution_count": 1
    }
   ],
   "source": [
    "[]"
   ]
  },
  {
   "cell_type": "code",
   "execution_count": 2,
   "metadata": {},
   "outputs": [
    {
     "output_type": "execute_result",
     "data": {
      "text/plain": "[2, 4, 8, 16]"
     },
     "metadata": {},
     "execution_count": 2
    }
   ],
   "source": [
    "[2,4,8,16]"
   ]
  },
  {
   "cell_type": "code",
   "execution_count": 3,
   "metadata": {},
   "outputs": [
    {
     "output_type": "execute_result",
     "data": {
      "text/plain": "[2, 4, 8, 16, 3, 6, 9, 12]"
     },
     "metadata": {},
     "execution_count": 3
    }
   ],
   "source": [
    "[2,4,8,16]+[3,6,9,12]"
   ]
  },
  {
   "cell_type": "code",
   "execution_count": 4,
   "metadata": {},
   "outputs": [
    {
     "output_type": "execute_result",
     "data": {
      "text/plain": "[2, 4, 8, 16, 3, 6, 9, 12]"
     },
     "metadata": {},
     "execution_count": 4
    }
   ],
   "source": [
    "mylist=[2,4,8,16]\n",
    "mylist+[3,6,9,12]"
   ]
  },
  {
   "cell_type": "code",
   "execution_count": 5,
   "metadata": {
    "tags": []
   },
   "outputs": [
    {
     "output_type": "stream",
     "name": "stdout",
     "text": "[2, 4, 8, 16]\n"
    }
   ],
   "source": [
    "print(mylist)"
   ]
  },
  {
   "cell_type": "code",
   "execution_count": 6,
   "metadata": {
    "tags": []
   },
   "outputs": [
    {
     "output_type": "stream",
     "name": "stdout",
     "text": "[2, 4, 8, 16, 3, 6, 9]\n"
    }
   ],
   "source": [
    "mylist=[2,4,8,16]\n",
    "mylist.append(3)\n",
    "mylist.append(6)\n",
    "mylist.append(9)\n",
    "print(mylist)"
   ]
  },
  {
   "cell_type": "code",
   "execution_count": 7,
   "metadata": {
    "tags": []
   },
   "outputs": [
    {
     "output_type": "stream",
     "name": "stdout",
     "text": "[2, 4, 8, 16, 3, 6, 9, 12]\n"
    }
   ],
   "source": [
    "mylist=[2,4,8,16]\n",
    "mylist.extend([3,6,9,12])\n",
    "print(mylist)"
   ]
  },
  {
   "cell_type": "code",
   "execution_count": 8,
   "metadata": {
    "tags": []
   },
   "outputs": [
    {
     "output_type": "stream",
     "name": "stdout",
     "text": "[2, 3, 4, 6, 8, 9, 12, 16]\n"
    }
   ],
   "source": [
    "mylist=[2,4,8,16,3,6,9,12]\n",
    "mylist.sort()\n",
    "print(mylist)"
   ]
  },
  {
   "cell_type": "code",
   "execution_count": 9,
   "metadata": {
    "tags": []
   },
   "outputs": [
    {
     "output_type": "stream",
     "name": "stdout",
     "text": "[16, 12, 9, 8, 6, 4, 3, 2]\n"
    }
   ],
   "source": [
    "mylist=[2,4,8,16,3,6,9,12]\n",
    "mylist.sort(reverse=True)\n",
    "print(mylist)"
   ]
  },
  {
   "cell_type": "code",
   "execution_count": 10,
   "metadata": {
    "tags": []
   },
   "outputs": [
    {
     "output_type": "stream",
     "name": "stdout",
     "text": "[12, 9, 6, 3, 16, 8, 4, 2]\n"
    }
   ],
   "source": [
    "mylist=[2,4,8,16,3,6,9,12]\n",
    "mylist.reverse()\n",
    "print(mylist)"
   ]
  },
  {
   "cell_type": "code",
   "execution_count": 11,
   "metadata": {
    "tags": []
   },
   "outputs": [
    {
     "output_type": "stream",
     "name": "stdout",
     "text": "[16, 12, 9, 8, 6, 4, 3, 2]\n"
    }
   ],
   "source": [
    "mylist=[2,4,8,16,3,6,9,12]\n",
    "mylist.sort()\n",
    "mylist.reverse()\n",
    "print(mylist)"
   ]
  },
  {
   "cell_type": "code",
   "execution_count": 12,
   "metadata": {
    "tags": []
   },
   "outputs": [
    {
     "output_type": "stream",
     "name": "stdout",
     "text": "[2, 4, 8, 16, 3, 6, 9, 12]\n[2, 3, 4, 6, 8, 9, 12, 16]\n[16, 12, 9, 8, 6, 4, 3, 2]\n"
    }
   ],
   "source": [
    "mylist=[2,4,8,16,3,6,9,12]\n",
    "new_list=sorted(mylist)\n",
    "rev_list=sorted(mylist,reverse=True)\n",
    "print(mylist)\n",
    "print(new_list)\n",
    "print(rev_list)"
   ]
  },
  {
   "cell_type": "code",
   "execution_count": 13,
   "metadata": {
    "tags": []
   },
   "outputs": [
    {
     "output_type": "stream",
     "name": "stdout",
     "text": "['orange', 'apple', 'grape', 'banana']\n"
    }
   ],
   "source": [
    "mylist=[]\n",
    "mylist.append('orange')\n",
    "mylist.append('apple')\n",
    "mylist.append('grape')\n",
    "mylist.append('banana')\n",
    "print(mylist)"
   ]
  },
  {
   "cell_type": "code",
   "execution_count": 14,
   "metadata": {
    "tags": []
   },
   "outputs": [
    {
     "output_type": "stream",
     "name": "stdout",
     "text": "['apple', 'banana', 'grape', 'orange']\n"
    }
   ],
   "source": [
    "mylist=['orange','apple','grape','banana']\n",
    "mylist.sort()\n",
    "print(mylist)"
   ]
  },
  {
   "cell_type": "code",
   "execution_count": 15,
   "metadata": {
    "tags": []
   },
   "outputs": [
    {
     "output_type": "stream",
     "name": "stdout",
     "text": "['orange', 'grape', 'banana', 'apple']\n"
    }
   ],
   "source": [
    "mylist=['orange','apple','grape','banana']\n",
    "mylist.sort(reverse=True)\n",
    "print(mylist)"
   ]
  },
  {
   "cell_type": "code",
   "execution_count": 16,
   "metadata": {
    "tags": []
   },
   "outputs": [
    {
     "output_type": "stream",
     "name": "stdout",
     "text": "['abc', 100, 'xyz', -1]\n"
    }
   ],
   "source": [
    "mylist=[]\n",
    "mylist.append('abc')\n",
    "mylist.append(100)\n",
    "mylist.extend(['xyz',-1])\n",
    "print(mylist)"
   ]
  },
  {
   "cell_type": "code",
   "execution_count": 17,
   "metadata": {},
   "outputs": [
    {
     "output_type": "error",
     "ename": "TypeError",
     "evalue": "'<' not supported between instances of 'int' and 'str'",
     "traceback": [
      "\u001b[1;31m---------------------------------------------------------------------------\u001b[0m",
      "\u001b[1;31mTypeError\u001b[0m                                 Traceback (most recent call last)",
      "\u001b[1;32m<ipython-input-17-7309caa8a1d6>\u001b[0m in \u001b[0;36m<module>\u001b[1;34m\u001b[0m\n\u001b[1;32m----> 1\u001b[1;33m \u001b[0mmylist\u001b[0m\u001b[1;33m.\u001b[0m\u001b[0msort\u001b[0m\u001b[1;33m(\u001b[0m\u001b[1;33m)\u001b[0m\u001b[1;33m\u001b[0m\u001b[1;33m\u001b[0m\u001b[0m\n\u001b[0m",
      "\u001b[1;31mTypeError\u001b[0m: '<' not supported between instances of 'int' and 'str'"
     ]
    }
   ],
   "source": [
    "mylist.sort()"
   ]
  },
  {
   "cell_type": "code",
   "execution_count": null,
   "metadata": {},
   "outputs": [],
   "source": []
  }
 ]
}